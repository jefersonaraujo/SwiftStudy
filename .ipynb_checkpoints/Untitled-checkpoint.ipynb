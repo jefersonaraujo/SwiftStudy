{
 "cells": [
  {
   "cell_type": "code",
   "execution_count": 6,
   "metadata": {},
   "outputs": [],
   "source": [
    "meu_carro = \"Toyota\""
   ]
  },
  {
   "cell_type": "code",
   "execution_count": 7,
   "metadata": {},
   "outputs": [
    {
     "data": {
      "text/plain": [
       "'Toyota'"
      ]
     },
     "execution_count": 7,
     "metadata": {},
     "output_type": "execute_result"
    }
   ],
   "source": [
    "meu_carro"
   ]
  },
  {
   "cell_type": "code",
   "execution_count": 9,
   "metadata": {},
   "outputs": [
    {
     "data": {
      "text/plain": [
       "str"
      ]
     },
     "execution_count": 9,
     "metadata": {},
     "output_type": "execute_result"
    }
   ],
   "source": [
    "type(meu_carro)"
   ]
  },
  {
   "cell_type": "code",
   "execution_count": 30,
   "metadata": {},
   "outputs": [
    {
     "name": "stdout",
     "output_type": "stream",
     "text": [
      "seu carro é um toyota\n"
     ]
    }
   ],
   "source": [
    "if (meu_carro == \"Toyota\"):\n",
    "    print(\"seu carro é um toyota\")\n",
    "else:\n",
    "    print(\"seu carro não é um toyota\")\n",
    "    print(\"final\")"
   ]
  },
  {
   "cell_type": "code",
   "execution_count": 35,
   "metadata": {},
   "outputs": [
    {
     "name": "stdout",
     "output_type": "stream",
     "text": [
      "2\n",
      "4\n",
      "6\n",
      "8\n"
     ]
    }
   ],
   "source": [
    "for numero in range(1,5):\n",
    "    print(numero + numero)\n",
    "    "
   ]
  },
  {
   "cell_type": "code",
   "execution_count": 31,
   "metadata": {
    "collapsed": true
   },
   "outputs": [],
   "source": [
    "cidades = [\"Paris\", \"Londres\", \"Madrid\", \"Rio\"]"
   ]
  },
  {
   "cell_type": "code",
   "execution_count": 36,
   "metadata": {},
   "outputs": [
    {
     "data": {
      "text/plain": [
       "list"
      ]
     },
     "execution_count": 36,
     "metadata": {},
     "output_type": "execute_result"
    }
   ],
   "source": [
    "type(cidades)"
   ]
  },
  {
   "cell_type": "code",
   "execution_count": 37,
   "metadata": {},
   "outputs": [
    {
     "name": "stdout",
     "output_type": "stream",
     "text": [
      "Já estive em cidade Paris\n",
      "Já estive em cidade Londres\n",
      "Já estive em cidade Madrid\n",
      "Já estive em cidade Rio\n"
     ]
    }
   ],
   "source": [
    "for cidade in cidades:\n",
    "    print(\"Já estive em cidade\", cidade)"
   ]
  },
  {
   "cell_type": "code",
   "execution_count": 38,
   "metadata": {
    "collapsed": true
   },
   "outputs": [],
   "source": [
    "cidades.append(\"Lisboa\")"
   ]
  },
  {
   "cell_type": "code",
   "execution_count": 39,
   "metadata": {},
   "outputs": [
    {
     "data": {
      "text/plain": [
       "['Paris', 'Londres', 'Madrid', 'Rio', 'Lisboa']"
      ]
     },
     "execution_count": 39,
     "metadata": {},
     "output_type": "execute_result"
    }
   ],
   "source": [
    "cidades"
   ]
  },
  {
   "cell_type": "code",
   "execution_count": 40,
   "metadata": {
    "collapsed": true
   },
   "outputs": [],
   "source": [
    "test_string = \"Meu nome é Paulo\""
   ]
  },
  {
   "cell_type": "code",
   "execution_count": 41,
   "metadata": {},
   "outputs": [
    {
     "data": {
      "text/plain": [
       "True"
      ]
     },
     "execution_count": 41,
     "metadata": {},
     "output_type": "execute_result"
    }
   ],
   "source": [
    "\"Meu\" in test_string"
   ]
  },
  {
   "cell_type": "code",
   "execution_count": 42,
   "metadata": {},
   "outputs": [
    {
     "data": {
      "text/plain": [
       "False"
      ]
     },
     "execution_count": 42,
     "metadata": {},
     "output_type": "execute_result"
    }
   ],
   "source": [
    "\"teste\" in test_string"
   ]
  },
  {
   "cell_type": "code",
   "execution_count": 43,
   "metadata": {
    "collapsed": true
   },
   "outputs": [],
   "source": [
    "cidades_visitadas = {'Maio':'Paris', 'Junho':'França'}"
   ]
  },
  {
   "cell_type": "code",
   "execution_count": 44,
   "metadata": {},
   "outputs": [
    {
     "data": {
      "text/plain": [
       "dict_items([('Maio', 'Paris'), ('Junho', 'França')])"
      ]
     },
     "execution_count": 44,
     "metadata": {},
     "output_type": "execute_result"
    }
   ],
   "source": [
    "cidades_visitadas.items()"
   ]
  },
  {
   "cell_type": "code",
   "execution_count": 48,
   "metadata": {},
   "outputs": [
    {
     "name": "stdout",
     "output_type": "stream",
     "text": [
      "Maio Paris\n",
      "Junho França\n"
     ]
    }
   ],
   "source": [
    "for mes, cidade in cidades_visitadas.items():\n",
    "    print(mes, cidade)"
   ]
  },
  {
   "cell_type": "code",
   "execution_count": 49,
   "metadata": {},
   "outputs": [
    {
     "data": {
      "text/plain": [
       "dict_values(['Paris', 'França'])"
      ]
     },
     "execution_count": 49,
     "metadata": {},
     "output_type": "execute_result"
    }
   ],
   "source": [
    "cidades_visitadas.values()"
   ]
  },
  {
   "cell_type": "code",
   "execution_count": 51,
   "metadata": {
    "scrolled": true
   },
   "outputs": [
    {
     "name": "stdout",
     "output_type": "stream",
     "text": [
      "Maio\n",
      "Junho\n"
     ]
    }
   ],
   "source": [
    "for lista in cidades_visitadas:\n",
    "    print(lista)"
   ]
  },
  {
   "cell_type": "code",
   "execution_count": 54,
   "metadata": {},
   "outputs": [
    {
     "data": {
      "text/plain": [
       "{'Junho': 'França', 'Maio': 'Paris'}"
      ]
     },
     "execution_count": 54,
     "metadata": {},
     "output_type": "execute_result"
    }
   ],
   "source": [
    "cidades_visitadas"
   ]
  },
  {
   "cell_type": "code",
   "execution_count": 55,
   "metadata": {
    "collapsed": true
   },
   "outputs": [],
   "source": [
    "alunos = {\"Carlos\":[\"Cálculo\", \"Algebra Linear\", \"Biologia I\"],\n",
    "         \"Luis\":[\"Algebra Linear\", \"Quimica\"],\n",
    "         \"Maria\": [\"Cálculo\", \"Física I\", \"Biologia II\"]}"
   ]
  },
  {
   "cell_type": "code",
   "execution_count": 81,
   "metadata": {},
   "outputs": [
    {
     "name": "stdout",
     "output_type": "stream",
     "text": [
      "Aluno:Carlos Cursa:\n",
      "Cálculo\n",
      "Algebra Linear\n",
      "Biologia I\n",
      "Aluno:Luis Cursa:\n",
      "Algebra Linear\n",
      "Quimica\n",
      "Aluno:Maria Cursa:\n",
      "Cálculo\n",
      "Física I\n",
      "Biologia II\n"
     ]
    }
   ],
   "source": [
    "for aluno, cursos in alunos.items():\n",
    "    frase_aluno = \"Aluno:\" + aluno\n",
    "    print(frase_aluno + \" Cursa:\")\n",
    "    for curso in cursos:\n",
    "        print(curso)"
   ]
  },
  {
   "cell_type": "code",
   "execution_count": 83,
   "metadata": {},
   "outputs": [],
   "source": [
    "notas = {\"Algebra I\": [7.2, 9.3, 8.1],\n",
    "        \"Quimica I\": [9.5, 10.0, 5.6],\n",
    "        \"Biologia III\": [6.6, 5.1, 9.3]}"
   ]
  },
  {
   "cell_type": "code",
   "execution_count": 117,
   "metadata": {},
   "outputs": [
    {
     "name": "stdout",
     "output_type": "stream",
     "text": [
      "Algebra I\n",
      "Notas passáveis:  3\n",
      "Quimica I\n",
      "Notas passáveis:  2\n",
      "Biologia III\n",
      "Notas passáveis:  1\n"
     ]
    }
   ],
   "source": [
    "for materia in notas.keys():\n",
    "    media = 7\n",
    "    passaveis = 0\n",
    "    total_nota = 0\n",
    "    print(materia)\n",
    "    for nota in notas[materia]:         \n",
    "        if(nota >= media):\n",
    "            passaveis = passaveis + 1\n",
    "        total_nota = total_nota + nota\n",
    "    nr_notas = len(notas[materia])\n",
    "    print(\"Notas passáveis: \", passaveis)\n",
    "    \n",
    "        "
   ]
  },
  {
   "cell_type": "code",
   "execution_count": 120,
   "metadata": {},
   "outputs": [],
   "source": [
    "def soma(x, y):\n",
    "    return (x+y);\n"
   ]
  },
  {
   "cell_type": "code",
   "execution_count": null,
   "metadata": {
    "collapsed": true
   },
   "outputs": [],
   "source": []
  }
 ],
 "metadata": {
  "kernelspec": {
   "display_name": "Python 3",
   "language": "python",
   "name": "python3"
  },
  "language_info": {
   "codemirror_mode": {
    "name": "ipython",
    "version": 3
   },
   "file_extension": ".py",
   "mimetype": "text/x-python",
   "name": "python",
   "nbconvert_exporter": "python",
   "pygments_lexer": "ipython3",
   "version": "3.6.2"
  }
 },
 "nbformat": 4,
 "nbformat_minor": 2
}
